{
 "cells": [
  {
   "cell_type": "markdown",
   "metadata": {},
   "source": [
    "<img style=\"float: left; margin: 30px 15px 15px 15px;\" src=\"https://pngimage.net/wp-content/uploads/2018/06/logo-iteso-png-5.png\" width=\"300\" height=\"500\" /> \n",
    "    \n",
    "    \n",
    "### <font color='navy'> Simulación de procesos financieros. \n",
    "\n",
    "**Nombres:** Romina Gutiérrez Cortés.\n",
    "\n",
    "**Fecha:** 15 de octubre del 2020.\n",
    "\n",
    "**Expediente** : 713415.\n",
    "**Profesor:** Oscar David Jaramillo Zuluaga.\n",
    "\n",
    "# Tarea 5: Clase 13"
   ]
  },
  {
   "cell_type": "markdown",
   "metadata": {},
   "source": [
    ">## <font color = 'red'> Tarea 6\n",
    ">1.Suponer que $T$ distribuye beta donde la media es $\\mu_p$ y varianza $\\sigma_p^2$ y responder cual es la probabilidad $P(T\\leq d)$.\n",
    "    ![imagen.png](attachment:imagen.png)\n",
    "\n",
    "> **Ayuda**: - Aprender a utlizar el solucionador de ecuaciones no lineales https://stackoverflow.com/questions/19843116/passing-arguments-to-fsolve\n",
    "- Leer el help de la función beta del paquete estadístico para aprender a graficar funciones beta en un intervalo diferente a 0 y 1.\n",
    "\n",
    ">2.Suponer que $T$ distribuye triangular donde el valor mas probable es $\\mu_p$ el valor pesimista es $p=49$ y el valor optimista es $o=40$ y responder cual es la probabilidad $P(T\\leq d)$. Nuevamente aprender a graficar una función triangular en un intervalro [a,b], usando el help."
   ]
  },
  {
   "cell_type": "code",
   "execution_count": 1,
   "metadata": {},
   "outputs": [],
   "source": [
    "import matplotlib.pyplot as plt\n",
    "import numpy as np\n",
    "import scipy.stats as st    \n",
    "%matplotlib inline"
   ]
  },
  {
   "cell_type": "code",
   "execution_count": 2,
   "metadata": {},
   "outputs": [],
   "source": [
    "from scipy.optimize import fsolve"
   ]
  },
  {
   "cell_type": "code",
   "execution_count": 6,
   "metadata": {},
   "outputs": [
    {
     "data": {
      "text/plain": [
       "(0.5432098765426324, 0.6790123456783965)"
      ]
     },
     "execution_count": 6,
     "metadata": {},
     "output_type": "execute_result"
    }
   ],
   "source": [
    "#Con esta funcion descubro cuales son los valores de alpha y beta respectivos al problema\n",
    "def f1(p):\n",
    "    alfa,beta=p\n",
    "    return ((40*beta+49*alfa)/(alfa+beta)-44, (alfa*beta*(49-40)**2)/((alfa+beta)**2*(1+alfa+beta))-9)\n",
    "\n",
    "alfa,beta = fsolve(f1, (44,9))\n",
    "alfa,beta\n"
   ]
  },
  {
   "cell_type": "code",
   "execution_count": 7,
   "metadata": {},
   "outputs": [
    {
     "data": {
      "text/plain": [
       "(-3.481659405224491e-13, 4.675371201301459e-12)"
      ]
     },
     "execution_count": 7,
     "metadata": {},
     "output_type": "execute_result"
    }
   ],
   "source": [
    "(40*beta+49*alfa)/(alfa+beta)-44, (alfa*beta*(49-40)**2)/((alfa+beta)**2*(1+alfa+beta))-9"
   ]
  },
  {
   "cell_type": "code",
   "execution_count": 8,
   "metadata": {},
   "outputs": [
    {
     "data": {
      "image/png": "[encoded data removed]",
      "text/plain": [
       "<Figure size 1080x288 with 2 Axes>"
      ]
     },
     "metadata": {
      "needs_background": "light"
     },
     "output_type": "display_data"
    }
   ],
   "source": [
    "a=alfa\n",
    "b=beta\n",
    "x = np.linspace(40,49,100)\n",
    "r = st.beta.pdf(x,a,b,loc=40,scale=9)\n",
    "r_acum = st.beta.cdf(x,a,b,loc=40,scale=9)\n",
    "fig,(ax1,ax2) = plt.subplots(1,2)\n",
    "fig.set_figwidth(15)\n",
    "ax1.plot(x,r,'o',markersize=3)\n",
    "ax1.set_title('Densidad de probabilidad')\n",
    "ax2.plot(x,r_acum,'o',markersize=3)\n",
    "ax2.set_title('Distribución acumulada')\n",
    "plt.show()"
   ]
  },
  {
   "cell_type": "markdown",
   "metadata": {},
   "source": [
    "La probabilidad de que $P(T\\leq d)$.d = np.linspace(40,49,10)\n"
   ]
  },
  {
   "cell_type": "code",
   "execution_count": 12,
   "metadata": {},
   "outputs": [
    {
     "data": {
      "text/plain": [
       "array([0.        , 0.23675261, 0.34994198, 0.44304984, 0.52712816,\n",
       "       0.60702857, 0.68606222, 0.76772519, 0.85828336, 1.        ])"
      ]
     },
     "execution_count": 12,
     "metadata": {},
     "output_type": "execute_result"
    }
   ],
   "source": [
    "st.beta.cdf(d,a,b,loc=40,scale=9)"
   ]
  },
  {
   "cell_type": "code",
   "execution_count": 13,
   "metadata": {},
   "outputs": [
    {
     "data": {
      "image/png": "[encoded data removed]",
      "text/plain": [
       "<Figure size 1080x288 with 2 Axes>"
      ]
     },
     "metadata": {
      "needs_background": "light"
     },
     "output_type": "display_data"
    }
   ],
   "source": [
    "#proceso pero para una distribución triangular\n",
    "c = .44\n",
    "x = np.linspace(40,49,100)\n",
    "r = st.triang.pdf(x,c,loc=40,scale=9)\n",
    "r_acum = st.triang.cdf(x,c,loc=40,scale=9)\n",
    "# Graficamos\n",
    "fig,(ax1,ax2) = plt.subplots(1,2)\n",
    "fig.set_figwidth(15)\n",
    "ax1.plot(x,r,'o',markersize=3)\n",
    "ax1.set_title('Densidad de probabilidad')\n",
    "ax2.plot(x,r_acum,'o',markersize=3)\n",
    "ax2.set_title('Distribución acumulada')\n",
    "plt.show()"
   ]
  },
  {
   "cell_type": "markdown",
   "metadata": {},
   "source": [
    "La probabilidad de que $P(T\\leq d)$."
   ]
  },
  {
   "cell_type": "code",
   "execution_count": 14,
   "metadata": {},
   "outputs": [
    {
     "data": {
      "text/plain": [
       "array([0.        , 0.02805836, 0.11223345, 0.25252525, 0.44885362,\n",
       "       0.64726631, 0.8015873 , 0.91181658, 0.97795414, 1.        ])"
      ]
     },
     "execution_count": 14,
     "metadata": {},
     "output_type": "execute_result"
    }
   ],
   "source": [
    "d = np.linspace(40,49,10)\n",
    "st.triang.cdf(d,c,loc=40,scale=9)"
   ]
  }
 ],
 "metadata": {
  "kernelspec": {
   "display_name": "Python 3",
   "language": "python",
   "name": "python3"
  },
  "language_info": {
   "codemirror_mode": {
    "name": "ipython",
    "version": 3
   },
   "file_extension": ".py",
   "mimetype": "text/x-python",
   "name": "python",
   "nbconvert_exporter": "python",
   "pygments_lexer": "ipython3",
   "version": "3.8.3"
  }
 },
 "nbformat": 4,
 "nbformat_minor": 4
}
